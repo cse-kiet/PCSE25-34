{
  "cells": [
    {
      "cell_type": "code",
      "execution_count": null,
      "metadata": {
        "id": "f2zyovWw1wPP"
      },
      "outputs": [],
      "source": [
        "from imutils import paths\n",
        "import cv2\n",
        "import os\n",
        "from tqdm import tqdm_notebook\n",
        "import tensorflow as tf\n",
        "\n",
        "config = tf.compat.v1.ConfigProto()\n",
        "config.gpu_options.allow_growth = True\n",
        "session = tf.compat.v1.InteractiveSession(config=config)"
      ]
    },
    {
      "cell_type": "code",
      "execution_count": null,
      "metadata": {
        "id": "8SWdPgLF2G6D"
      },
      "outputs": [],
      "source": [
        "imagePaths = list(paths.list_images(\"/content/Covid-19-20240229T060836Z-001.zip, /content/Non Covid-19-20240229T060836Z-001.zip\"))\n",
        "data = []\n",
        "labels = []"
      ]
    },
    {
      "cell_type": "code",
      "execution_count": null,
      "metadata": {
        "id": "q3ccUq1Z2JHY"
      },
      "outputs": [],
      "source": [
        "img_height=192\n",
        "img_width = 192\n",
        "num_classes = 2"
      ]
    },
    {
      "cell_type": "code",
      "execution_count": null,
      "metadata": {
        "id": "7le72aqH2LIq"
      },
      "outputs": [],
      "source": [
        "for imagePath in imagePaths:\n",
        "\t# extract the class label from the filename\n",
        "\tlabel = imagePath.split(os.path.sep)[-2]\n",
        "\n",
        "\t# load the image, swap color channels, and resize it to be a fixed\n",
        "\t# 192x192 pixels while ignoring aspect ratio\n",
        "\timage = cv2.imread(imagePath)\n",
        "\timage = cv2.cvtColor(image, cv2.COLOR_BGR2RGB)\n",
        "\timage = cv2.resize(image, (img_height, img_width))\n",
        "\n",
        "\t# update the data and labels lists, respectively\n",
        "\tdata.append(image)\n",
        "\tlabels.append(label)\n"
      ]
    },
    {
      "cell_type": "code",
      "execution_count": null,
      "metadata": {
        "id": "LnyCb2Hu2NQ5"
      },
      "outputs": [],
      "source": [
        "\n",
        "import numpy as np\n",
        "data = np.array(data) / 255.0\n",
        "labels = np.array(labels)\n"
      ]
    },
    {
      "cell_type": "code",
      "execution_count": null,
      "metadata": {
        "id": "BL7GdW1f2PSC",
        "outputId": "cc393bcd-d8c8-4ed0-8d35-2f0055968a03",
        "colab": {
          "base_uri": "https://localhost:8080/"
        }
      },
      "outputs": [
        {
          "output_type": "stream",
          "name": "stdout",
          "text": [
            "Original labels: ['Covid-19-20240229T060836Z-001.zip', 'Non']\n",
            "Encoded labels: [[0]\n",
            " [1]]\n",
            "One-hot encoded labels: [[1. 0.]\n",
            " [0. 1.]]\n"
          ]
        }
      ],
      "source": [
        "# perform one-hot encoding on the labels\n",
        "from sklearn.preprocessing import LabelBinarizer\n",
        "from keras.utils import to_categorical\n",
        "\n",
        "# Define file paths\n",
        "file_paths = [\"/content/Covid-19-20240229T060836Z-001.zip\", \"/content/Non Covid-19-20240229T060836Z-001.zip\"]\n",
        "\n",
        "# Extract labels from file paths\n",
        "labels = [os.path.basename(file_path).split()[0] for file_path in file_paths]\n",
        "\n",
        "# Perform one-hot encoding on the labels\n",
        "lb = LabelBinarizer()\n",
        "labels_encoded = lb.fit_transform(labels)\n",
        "labels_one_hot = to_categorical(labels_encoded)\n",
        "\n",
        "print(\"Original labels:\", labels)\n",
        "print(\"Encoded labels:\", labels_encoded)\n",
        "print(\"One-hot encoded labels:\", labels_one_hot)\n"
      ]
    },
    {
      "cell_type": "code",
      "execution_count": null,
      "metadata": {
        "colab": {
          "base_uri": "https://localhost:8080/"
        },
        "id": "PnDPHheJ2S58",
        "outputId": "991abf06-2005-4a71-98d2-44e88ed7ac28"
      },
      "outputs": [
        {
          "output_type": "stream",
          "name": "stdout",
          "text": [
            "Number of training examples: 80\n",
            "Number of test examples: 20\n",
            "X_train shape: (80, 32, 32, 3)\n",
            "y_train shape: (80,)\n",
            "X_test shape: (20, 32, 32, 3)\n",
            "y_test shape: (20,)\n"
          ]
        }
      ],
      "source": [
        "from sklearn.model_selection import train_test_split\n",
        "\n",
        "# Assuming 'data' is your input data and 'labels' are your corresponding labels\n",
        "# Ensure that 'data' and 'labels' have the same length or shape\n",
        "\n",
        "# Example: Creating dummy data\n",
        "data = np.random.rand(100, 32, 32, 3)  # Assuming input data shape is (100, 32, 32, 3)\n",
        "labels = np.random.randint(0, 2, 100)  # Assuming binary labels for 100 samples\n",
        "\n",
        "# Splitting the data into training and testing sets\n",
        "X_train, X_test, y_train, y_test = train_test_split(data, labels,\n",
        "                                                    test_size=0.20,\n",
        "                                                    stratify=labels,\n",
        "                                                    random_state=40)\n",
        "\n",
        "# Displaying shapes of the resulting datasets\n",
        "print(\"Number of training examples:\", X_train.shape[0])\n",
        "print(\"Number of test examples:\", X_test.shape[0])\n",
        "print(\"X_train shape:\", X_train.shape)\n",
        "print(\"y_train shape:\", y_train.shape)\n",
        "print(\"X_test shape:\", X_test.shape)\n",
        "print(\"y_test shape:\", y_test.shape)\n",
        "\n"
      ]
    },
    {
      "cell_type": "code",
      "execution_count": null,
      "metadata": {
        "colab": {
          "base_uri": "https://localhost:8080/"
        },
        "id": "nBlzrGeT2ZDd",
        "outputId": "1eec72f6-52b2-453e-e84c-c4ec13c0942a"
      },
      "outputs": [
        {
          "output_type": "stream",
          "name": "stdout",
          "text": [
            "Downloading data from https://storage.googleapis.com/tensorflow/keras-applications/resnet/resnet50_weights_tf_dim_ordering_tf_kernels_notop.h5\n",
            "94765736/94765736 [==============================] - 0s 0us/step\n"
          ]
        }
      ],
      "source": [
        "from keras import applications\n",
        "\n",
        "base_model = applications.resnet50.ResNet50(\n",
        "                            weights= 'imagenet',\n",
        "                            include_top=False,\n",
        "                            input_shape= (img_height,img_width,3))"
      ]
    },
    {
      "cell_type": "code",
      "execution_count": null,
      "metadata": {
        "id": "_-HCA0oz2dLI"
      },
      "outputs": [],
      "source": [
        "from keras.layers import Dense, Dropout, Flatten, Conv2D, MaxPool2D,GlobalAveragePooling2D\n",
        "from keras.callbacks import TensorBoard,ReduceLROnPlateau,ModelCheckpoint\n",
        "from keras.models import Sequential,Model,load_model\n",
        "\n",
        "x = base_model.output\n",
        "x = GlobalAveragePooling2D()(x)\n",
        "x = Dropout(0.3)(x)\n",
        "x = Dense(32, activation=\"relu\")(x)\n",
        "x = Dropout(0.3)(x)\n",
        "predictions = Dense(num_classes, activation= 'relu')(x)\n",
        "\n",
        "model = Model(inputs= base_model.input, outputs= predictions)"
      ]
    },
    {
      "cell_type": "code",
      "execution_count": null,
      "metadata": {
        "colab": {
          "base_uri": "https://localhost:8080/"
        },
        "id": "6LFowklD2gfT",
        "outputId": "acd99e83-f2c7-4a46-9601-8a966dd51bc6"
      },
      "outputs": [
        {
          "output_type": "stream",
          "name": "stderr",
          "text": [
            "WARNING:absl:`lr` is deprecated in Keras optimizer, please use `learning_rate` or use the legacy optimizer, e.g.,tf.keras.optimizers.legacy.Adam.\n"
          ]
        }
      ],
      "source": [
        "from keras.optimizers import SGD, Adam\n",
        "#sgd = SGD(lr=0.0001, momentum=0.9, nesterov=False)\n",
        "adam = Adam(lr=0.0001)\n",
        "model.compile(optimizer= adam, loss='binary_crossentropy', metrics=['accuracy'])"
      ]
    },
    {
      "cell_type": "code",
      "execution_count": null,
      "metadata": {
        "colab": {
          "base_uri": "https://localhost:8080/"
        },
        "id": "OzjkNeQ02rm1",
        "outputId": "422fbe54-d44f-4883-8de3-e2c2d38f2b9e"
      },
      "outputs": [
        {
          "output_type": "stream",
          "name": "stdout",
          "text": [
            "Epoch 1/100\n",
            "7/7 [==============================] - 4s 151ms/step - loss: 1.5146 - accuracy: 0.4844 - val_loss: 0.6922 - val_accuracy: 0.5000\n",
            "Epoch 2/100\n",
            "7/7 [==============================] - 0s 18ms/step - loss: 0.6778 - accuracy: 0.6094 - val_loss: 0.7055 - val_accuracy: 0.5000\n",
            "Epoch 3/100\n",
            "7/7 [==============================] - 0s 20ms/step - loss: 0.6595 - accuracy: 0.6250 - val_loss: 0.7382 - val_accuracy: 0.5000\n",
            "Epoch 4/100\n",
            "7/7 [==============================] - 0s 18ms/step - loss: 0.5702 - accuracy: 0.6719 - val_loss: 0.7679 - val_accuracy: 0.5000\n",
            "Epoch 5/100\n",
            "7/7 [==============================] - 0s 20ms/step - loss: 0.4653 - accuracy: 0.7969 - val_loss: 0.7291 - val_accuracy: 0.5000\n",
            "Epoch 6/100\n",
            "7/7 [==============================] - 0s 20ms/step - loss: 0.5278 - accuracy: 0.7656 - val_loss: 0.7309 - val_accuracy: 0.5000\n",
            "Epoch 7/100\n",
            "7/7 [==============================] - 0s 18ms/step - loss: 0.3659 - accuracy: 0.9688 - val_loss: 0.7549 - val_accuracy: 0.6250\n",
            "Epoch 8/100\n",
            "7/7 [==============================] - 0s 18ms/step - loss: 0.1438 - accuracy: 0.9844 - val_loss: 1.1671 - val_accuracy: 0.5000\n",
            "Epoch 9/100\n",
            "7/7 [==============================] - 0s 18ms/step - loss: 0.0502 - accuracy: 1.0000 - val_loss: 1.8646 - val_accuracy: 0.5000\n",
            "Epoch 10/100\n",
            "7/7 [==============================] - 0s 18ms/step - loss: 0.0486 - accuracy: 0.9844 - val_loss: 3.3506 - val_accuracy: 0.5000\n",
            "Epoch 11/100\n",
            "7/7 [==============================] - 0s 18ms/step - loss: 0.1095 - accuracy: 0.9219 - val_loss: 1.0745 - val_accuracy: 0.3750\n",
            "Epoch 12/100\n",
            "7/7 [==============================] - 0s 20ms/step - loss: 0.0127 - accuracy: 1.0000 - val_loss: 1.0770 - val_accuracy: 0.5625\n",
            "Epoch 13/100\n",
            "7/7 [==============================] - 0s 20ms/step - loss: 0.0073 - accuracy: 1.0000 - val_loss: 1.1990 - val_accuracy: 0.5000\n",
            "Epoch 14/100\n",
            "7/7 [==============================] - 0s 18ms/step - loss: 0.0040 - accuracy: 1.0000 - val_loss: 1.2880 - val_accuracy: 0.5625\n",
            "Epoch 15/100\n",
            "7/7 [==============================] - 0s 18ms/step - loss: 0.0015 - accuracy: 1.0000 - val_loss: 1.3370 - val_accuracy: 0.5000\n",
            "Epoch 16/100\n",
            "7/7 [==============================] - 0s 18ms/step - loss: 7.1389e-04 - accuracy: 1.0000 - val_loss: 1.4897 - val_accuracy: 0.5000\n",
            "Epoch 17/100\n",
            "7/7 [==============================] - 0s 20ms/step - loss: 3.6409e-04 - accuracy: 1.0000 - val_loss: 1.6721 - val_accuracy: 0.4375\n",
            "Epoch 18/100\n",
            "7/7 [==============================] - 0s 18ms/step - loss: 2.3135e-04 - accuracy: 1.0000 - val_loss: 1.7962 - val_accuracy: 0.4375\n",
            "Epoch 19/100\n",
            "7/7 [==============================] - 0s 18ms/step - loss: 1.2995e-04 - accuracy: 1.0000 - val_loss: 1.8377 - val_accuracy: 0.4375\n",
            "Epoch 20/100\n",
            "7/7 [==============================] - 0s 20ms/step - loss: 7.0772e-05 - accuracy: 1.0000 - val_loss: 1.8634 - val_accuracy: 0.5000\n",
            "Epoch 21/100\n",
            "7/7 [==============================] - 0s 19ms/step - loss: 4.1885e-05 - accuracy: 1.0000 - val_loss: 1.9329 - val_accuracy: 0.5000\n",
            "Epoch 22/100\n",
            "7/7 [==============================] - 0s 18ms/step - loss: 2.6490e-05 - accuracy: 1.0000 - val_loss: 2.0566 - val_accuracy: 0.5000\n",
            "Epoch 23/100\n",
            "7/7 [==============================] - 0s 19ms/step - loss: 1.8619e-05 - accuracy: 1.0000 - val_loss: 2.1540 - val_accuracy: 0.4375\n",
            "Epoch 24/100\n",
            "7/7 [==============================] - 0s 18ms/step - loss: 1.4648e-05 - accuracy: 1.0000 - val_loss: 2.2180 - val_accuracy: 0.4375\n",
            "Epoch 25/100\n",
            "7/7 [==============================] - 0s 18ms/step - loss: 1.2008e-05 - accuracy: 1.0000 - val_loss: 2.2584 - val_accuracy: 0.4375\n",
            "Epoch 26/100\n",
            "7/7 [==============================] - 0s 19ms/step - loss: 1.0175e-05 - accuracy: 1.0000 - val_loss: 2.2791 - val_accuracy: 0.4375\n",
            "Epoch 27/100\n",
            "7/7 [==============================] - 0s 19ms/step - loss: 9.0430e-06 - accuracy: 1.0000 - val_loss: 2.2963 - val_accuracy: 0.4375\n",
            "Epoch 28/100\n",
            "7/7 [==============================] - 0s 20ms/step - loss: 8.0745e-06 - accuracy: 1.0000 - val_loss: 2.3104 - val_accuracy: 0.4375\n",
            "Epoch 29/100\n",
            "7/7 [==============================] - 0s 18ms/step - loss: 7.4412e-06 - accuracy: 1.0000 - val_loss: 2.3413 - val_accuracy: 0.4375\n",
            "Epoch 30/100\n",
            "7/7 [==============================] - 0s 18ms/step - loss: 6.7222e-06 - accuracy: 1.0000 - val_loss: 2.3369 - val_accuracy: 0.5000\n",
            "Epoch 31/100\n",
            "7/7 [==============================] - 0s 19ms/step - loss: 6.2566e-06 - accuracy: 1.0000 - val_loss: 2.3395 - val_accuracy: 0.5000\n",
            "Epoch 32/100\n",
            "7/7 [==============================] - 0s 18ms/step - loss: 5.8766e-06 - accuracy: 1.0000 - val_loss: 2.3472 - val_accuracy: 0.5000\n",
            "Epoch 33/100\n",
            "7/7 [==============================] - 0s 19ms/step - loss: 5.4929e-06 - accuracy: 1.0000 - val_loss: 2.3642 - val_accuracy: 0.5000\n",
            "Epoch 34/100\n",
            "7/7 [==============================] - 0s 18ms/step - loss: 5.1781e-06 - accuracy: 1.0000 - val_loss: 2.3813 - val_accuracy: 0.5000\n",
            "Epoch 35/100\n",
            "7/7 [==============================] - 0s 20ms/step - loss: 4.8875e-06 - accuracy: 1.0000 - val_loss: 2.3919 - val_accuracy: 0.5000\n",
            "Epoch 36/100\n",
            "7/7 [==============================] - 0s 18ms/step - loss: 4.6193e-06 - accuracy: 1.0000 - val_loss: 2.4172 - val_accuracy: 0.5000\n",
            "Epoch 37/100\n",
            "7/7 [==============================] - 0s 18ms/step - loss: 4.3921e-06 - accuracy: 1.0000 - val_loss: 2.4312 - val_accuracy: 0.4375\n",
            "Epoch 38/100\n",
            "7/7 [==============================] - 0s 19ms/step - loss: 4.2282e-06 - accuracy: 1.0000 - val_loss: 2.4442 - val_accuracy: 0.4375\n",
            "Epoch 39/100\n",
            "7/7 [==============================] - 0s 18ms/step - loss: 4.0363e-06 - accuracy: 1.0000 - val_loss: 2.4528 - val_accuracy: 0.4375\n",
            "Epoch 40/100\n",
            "7/7 [==============================] - 0s 18ms/step - loss: 3.8631e-06 - accuracy: 1.0000 - val_loss: 2.4539 - val_accuracy: 0.5000\n",
            "Epoch 41/100\n",
            "7/7 [==============================] - 0s 18ms/step - loss: 3.7234e-06 - accuracy: 1.0000 - val_loss: 2.4587 - val_accuracy: 0.5000\n",
            "Epoch 42/100\n",
            "7/7 [==============================] - 0s 18ms/step - loss: 3.5856e-06 - accuracy: 1.0000 - val_loss: 2.4492 - val_accuracy: 0.5000\n",
            "Epoch 43/100\n",
            "7/7 [==============================] - 0s 18ms/step - loss: 3.4645e-06 - accuracy: 1.0000 - val_loss: 2.4518 - val_accuracy: 0.5000\n",
            "Epoch 44/100\n",
            "7/7 [==============================] - 0s 20ms/step - loss: 3.2913e-06 - accuracy: 1.0000 - val_loss: 2.4840 - val_accuracy: 0.5000\n",
            "Epoch 45/100\n",
            "7/7 [==============================] - 0s 19ms/step - loss: 3.1888e-06 - accuracy: 1.0000 - val_loss: 2.4998 - val_accuracy: 0.4375\n",
            "Epoch 46/100\n",
            "7/7 [==============================] - 0s 21ms/step - loss: 3.0882e-06 - accuracy: 1.0000 - val_loss: 2.5215 - val_accuracy: 0.4375\n",
            "Epoch 47/100\n",
            "7/7 [==============================] - 0s 22ms/step - loss: 3.0249e-06 - accuracy: 1.0000 - val_loss: 2.5293 - val_accuracy: 0.4375\n",
            "Epoch 48/100\n",
            "7/7 [==============================] - 0s 22ms/step - loss: 2.9094e-06 - accuracy: 1.0000 - val_loss: 2.5156 - val_accuracy: 0.5000\n",
            "Epoch 49/100\n",
            "7/7 [==============================] - 0s 23ms/step - loss: 2.7940e-06 - accuracy: 1.0000 - val_loss: 2.5076 - val_accuracy: 0.5000\n",
            "Epoch 50/100\n",
            "7/7 [==============================] - 0s 21ms/step - loss: 2.7157e-06 - accuracy: 1.0000 - val_loss: 2.5028 - val_accuracy: 0.5000\n",
            "Epoch 51/100\n",
            "7/7 [==============================] - 0s 21ms/step - loss: 2.6226e-06 - accuracy: 1.0000 - val_loss: 2.5108 - val_accuracy: 0.5000\n",
            "Epoch 52/100\n",
            "7/7 [==============================] - 0s 21ms/step - loss: 2.5593e-06 - accuracy: 1.0000 - val_loss: 2.5135 - val_accuracy: 0.5000\n",
            "Epoch 53/100\n",
            "7/7 [==============================] - 0s 22ms/step - loss: 2.4885e-06 - accuracy: 1.0000 - val_loss: 2.5274 - val_accuracy: 0.5000\n",
            "Epoch 54/100\n",
            "7/7 [==============================] - 0s 23ms/step - loss: 2.4177e-06 - accuracy: 1.0000 - val_loss: 2.5279 - val_accuracy: 0.5000\n",
            "Epoch 55/100\n",
            "7/7 [==============================] - 0s 22ms/step - loss: 2.3935e-06 - accuracy: 1.0000 - val_loss: 2.5518 - val_accuracy: 0.5000\n",
            "Epoch 56/100\n",
            "7/7 [==============================] - 0s 23ms/step - loss: 2.2873e-06 - accuracy: 1.0000 - val_loss: 2.5317 - val_accuracy: 0.5000\n",
            "Epoch 57/100\n",
            "7/7 [==============================] - 0s 23ms/step - loss: 2.2240e-06 - accuracy: 1.0000 - val_loss: 2.5433 - val_accuracy: 0.5000\n",
            "Epoch 58/100\n",
            "7/7 [==============================] - 0s 23ms/step - loss: 2.1607e-06 - accuracy: 1.0000 - val_loss: 2.5461 - val_accuracy: 0.5000\n",
            "Epoch 59/100\n",
            "7/7 [==============================] - 0s 21ms/step - loss: 2.0880e-06 - accuracy: 1.0000 - val_loss: 2.5353 - val_accuracy: 0.5000\n",
            "Epoch 60/100\n",
            "7/7 [==============================] - 0s 18ms/step - loss: 2.0508e-06 - accuracy: 1.0000 - val_loss: 2.5379 - val_accuracy: 0.5000\n",
            "Epoch 61/100\n",
            "7/7 [==============================] - 0s 18ms/step - loss: 2.0023e-06 - accuracy: 1.0000 - val_loss: 2.5486 - val_accuracy: 0.5000\n",
            "Epoch 62/100\n",
            "7/7 [==============================] - 0s 18ms/step - loss: 1.9390e-06 - accuracy: 1.0000 - val_loss: 2.5555 - val_accuracy: 0.5000\n",
            "Epoch 63/100\n",
            "7/7 [==============================] - 0s 20ms/step - loss: 1.8869e-06 - accuracy: 1.0000 - val_loss: 2.5589 - val_accuracy: 0.5000\n",
            "Epoch 64/100\n",
            "7/7 [==============================] - 0s 18ms/step - loss: 1.8552e-06 - accuracy: 1.0000 - val_loss: 2.5637 - val_accuracy: 0.5000\n",
            "Epoch 65/100\n",
            "7/7 [==============================] - 0s 18ms/step - loss: 1.8142e-06 - accuracy: 1.0000 - val_loss: 2.5752 - val_accuracy: 0.5000\n",
            "Epoch 66/100\n",
            "7/7 [==============================] - 0s 18ms/step - loss: 1.7676e-06 - accuracy: 1.0000 - val_loss: 2.5826 - val_accuracy: 0.5000\n",
            "Epoch 67/100\n",
            "7/7 [==============================] - 0s 18ms/step - loss: 1.7285e-06 - accuracy: 1.0000 - val_loss: 2.5881 - val_accuracy: 0.5000\n",
            "Epoch 68/100\n",
            "7/7 [==============================] - 0s 18ms/step - loss: 1.6857e-06 - accuracy: 1.0000 - val_loss: 2.5853 - val_accuracy: 0.5000\n",
            "Epoch 69/100\n",
            "7/7 [==============================] - 0s 20ms/step - loss: 1.6615e-06 - accuracy: 1.0000 - val_loss: 2.5809 - val_accuracy: 0.5000\n",
            "Epoch 70/100\n",
            "7/7 [==============================] - 0s 19ms/step - loss: 1.6261e-06 - accuracy: 1.0000 - val_loss: 2.5861 - val_accuracy: 0.5000\n",
            "Epoch 71/100\n",
            "7/7 [==============================] - 0s 18ms/step - loss: 1.5683e-06 - accuracy: 1.0000 - val_loss: 2.6101 - val_accuracy: 0.5000\n",
            "Epoch 72/100\n",
            "7/7 [==============================] - 0s 20ms/step - loss: 1.5795e-06 - accuracy: 1.0000 - val_loss: 2.6378 - val_accuracy: 0.5000\n",
            "Epoch 73/100\n",
            "7/7 [==============================] - 0s 18ms/step - loss: 1.5330e-06 - accuracy: 1.0000 - val_loss: 2.6413 - val_accuracy: 0.5000\n",
            "Epoch 74/100\n",
            "7/7 [==============================] - 0s 20ms/step - loss: 1.4920e-06 - accuracy: 1.0000 - val_loss: 2.6350 - val_accuracy: 0.5000\n",
            "Epoch 75/100\n",
            "7/7 [==============================] - 0s 18ms/step - loss: 1.4715e-06 - accuracy: 1.0000 - val_loss: 2.6187 - val_accuracy: 0.5000\n",
            "Epoch 76/100\n",
            "7/7 [==============================] - 0s 18ms/step - loss: 1.4324e-06 - accuracy: 1.0000 - val_loss: 2.6238 - val_accuracy: 0.5000\n",
            "Epoch 77/100\n",
            "7/7 [==============================] - 0s 19ms/step - loss: 1.4082e-06 - accuracy: 1.0000 - val_loss: 2.6320 - val_accuracy: 0.5000\n",
            "Epoch 78/100\n",
            "7/7 [==============================] - 0s 18ms/step - loss: 1.3802e-06 - accuracy: 1.0000 - val_loss: 2.6400 - val_accuracy: 0.5000\n",
            "Epoch 79/100\n",
            "7/7 [==============================] - 0s 19ms/step - loss: 1.3523e-06 - accuracy: 1.0000 - val_loss: 2.6397 - val_accuracy: 0.5000\n",
            "Epoch 80/100\n",
            "7/7 [==============================] - 0s 18ms/step - loss: 1.3318e-06 - accuracy: 1.0000 - val_loss: 2.6391 - val_accuracy: 0.5000\n",
            "Epoch 81/100\n",
            "7/7 [==============================] - 0s 20ms/step - loss: 1.3113e-06 - accuracy: 1.0000 - val_loss: 2.6456 - val_accuracy: 0.5000\n",
            "Epoch 82/100\n",
            "7/7 [==============================] - 0s 20ms/step - loss: 1.2964e-06 - accuracy: 1.0000 - val_loss: 2.6542 - val_accuracy: 0.5000\n",
            "Epoch 83/100\n",
            "7/7 [==============================] - 0s 20ms/step - loss: 1.2647e-06 - accuracy: 1.0000 - val_loss: 2.6571 - val_accuracy: 0.5000\n",
            "Epoch 84/100\n",
            "7/7 [==============================] - 0s 20ms/step - loss: 1.2536e-06 - accuracy: 1.0000 - val_loss: 2.6677 - val_accuracy: 0.5000\n",
            "Epoch 85/100\n",
            "7/7 [==============================] - 0s 17ms/step - loss: 1.2256e-06 - accuracy: 1.0000 - val_loss: 2.6744 - val_accuracy: 0.5000\n",
            "Epoch 86/100\n",
            "7/7 [==============================] - 0s 18ms/step - loss: 1.2126e-06 - accuracy: 1.0000 - val_loss: 2.6813 - val_accuracy: 0.5000\n",
            "Epoch 87/100\n",
            "7/7 [==============================] - 0s 20ms/step - loss: 1.1846e-06 - accuracy: 1.0000 - val_loss: 2.6756 - val_accuracy: 0.5000\n",
            "Epoch 88/100\n",
            "7/7 [==============================] - 0s 18ms/step - loss: 1.1548e-06 - accuracy: 1.0000 - val_loss: 2.6624 - val_accuracy: 0.5000\n",
            "Epoch 89/100\n",
            "7/7 [==============================] - 0s 20ms/step - loss: 1.1474e-06 - accuracy: 1.0000 - val_loss: 2.6625 - val_accuracy: 0.5000\n",
            "Epoch 90/100\n",
            "7/7 [==============================] - 0s 18ms/step - loss: 1.1362e-06 - accuracy: 1.0000 - val_loss: 2.6641 - val_accuracy: 0.5000\n",
            "Epoch 91/100\n",
            "7/7 [==============================] - 0s 20ms/step - loss: 1.0934e-06 - accuracy: 1.0000 - val_loss: 2.6851 - val_accuracy: 0.5000\n",
            "Epoch 92/100\n",
            "7/7 [==============================] - 0s 20ms/step - loss: 1.1027e-06 - accuracy: 1.0000 - val_loss: 2.7109 - val_accuracy: 0.5000\n",
            "Epoch 93/100\n",
            "7/7 [==============================] - 0s 18ms/step - loss: 1.0785e-06 - accuracy: 1.0000 - val_loss: 2.7026 - val_accuracy: 0.5000\n",
            "Epoch 94/100\n",
            "7/7 [==============================] - 0s 18ms/step - loss: 1.0487e-06 - accuracy: 1.0000 - val_loss: 2.6926 - val_accuracy: 0.5000\n",
            "Epoch 95/100\n",
            "7/7 [==============================] - 0s 18ms/step - loss: 1.0338e-06 - accuracy: 1.0000 - val_loss: 2.6959 - val_accuracy: 0.5000\n",
            "Epoch 96/100\n",
            "7/7 [==============================] - 0s 19ms/step - loss: 1.0170e-06 - accuracy: 1.0000 - val_loss: 2.6975 - val_accuracy: 0.5000\n",
            "Epoch 97/100\n",
            "7/7 [==============================] - 0s 18ms/step - loss: 1.0002e-06 - accuracy: 1.0000 - val_loss: 2.6998 - val_accuracy: 0.5000\n",
            "Epoch 98/100\n",
            "7/7 [==============================] - 0s 19ms/step - loss: 9.8906e-07 - accuracy: 1.0000 - val_loss: 2.7028 - val_accuracy: 0.5000\n",
            "Epoch 99/100\n",
            "7/7 [==============================] - 0s 21ms/step - loss: 9.6671e-07 - accuracy: 1.0000 - val_loss: 2.7035 - val_accuracy: 0.5000\n",
            "Epoch 100/100\n",
            "7/7 [==============================] - 0s 18ms/step - loss: 9.5740e-07 - accuracy: 1.0000 - val_loss: 2.7029 - val_accuracy: 0.5000\n",
            "1/1 [==============================] - 0s 262ms/step - loss: 2.7029 - accuracy: 0.5000\n",
            "Validation Loss: 2.702915668487549\n",
            "Validation Accuracy: 0.5\n"
          ]
        }
      ],
      "source": [
        "import numpy as np\n",
        "import tensorflow as tf\n",
        "from tensorflow.keras import layers, models\n",
        "from skimage.transform import resize\n",
        "from sklearn.model_selection import train_test_split\n",
        "\n",
        "# Assuming you have loaded your data into X_train and y_train\n",
        "# Assuming X_train has shape (num_samples, 32, 32, 3)\n",
        "# Assuming y_train has shape (num_samples, num_classes)\n",
        "\n",
        "# Resize the input data to match the expected input shape of the model (192, 192, 3)\n",
        "X_train_resized = np.array([resize(image, (192, 192, 3)) for image in X_train])\n",
        "\n",
        "# Define your CNN model\n",
        "def create_model():\n",
        "    model = models.Sequential([\n",
        "        layers.Conv2D(32, (3, 3), activation='relu', input_shape=(192, 192, 3)),\n",
        "        layers.MaxPooling2D((2, 2)),\n",
        "        layers.Conv2D(64, (3, 3), activation='relu'),\n",
        "        layers.MaxPooling2D((2, 2)),\n",
        "        layers.Conv2D(64, (3, 3), activation='relu'),\n",
        "        layers.Flatten(),\n",
        "        layers.Dense(64, activation='relu'),\n",
        "        layers.Dense(num_classes, activation='softmax')  # Assuming num_classes is the number of output classes\n",
        "    ])\n",
        "    return model\n",
        "\n",
        "# Create your model\n",
        "model = create_model()\n",
        "\n",
        "# Compile the model\n",
        "model.compile(optimizer='adam', loss='sparse_categorical_crossentropy', metrics=['accuracy'])\n",
        "\n",
        "# Split the data into training and validation sets\n",
        "X_train_split, X_val_split, y_train_split, y_val_split = train_test_split(X_train_resized, y_train, test_size=0.2, random_state=42)\n",
        "\n",
        "# Train the model\n",
        "history = model.fit(X_train_split, y_train_split, epochs=100, batch_size=10, validation_data=(X_val_split, y_val_split))\n",
        "\n",
        "# Evaluate the model\n",
        "loss, accuracy = model.evaluate(X_val_split, y_val_split)\n",
        "print(\"Validation Loss:\", loss)\n",
        "print(\"Validation Accuracy:\", accuracy)\n"
      ]
    },
    {
      "cell_type": "code",
      "execution_count": null,
      "metadata": {
        "colab": {
          "base_uri": "https://localhost:8080/"
        },
        "id": "72U5l13t2uK-",
        "outputId": "573b3ccc-6d82-478d-fbbc-eca5ee4b8ae8"
      },
      "outputs": [
        {
          "output_type": "stream",
          "name": "stdout",
          "text": [
            "1/1 [==============================] - 0s 397ms/step - loss: 0.6771 - accuracy: 0.6000\n",
            "Loss = 0.6770865321159363\n",
            "Test Accuracy = 0.6000000238418579\n"
          ]
        }
      ],
      "source": [
        "# Assuming you have already imported necessary libraries and defined your model\n",
        "\n",
        "# Resize the test images to match the expected input shape of the model\n",
        "X_test_resized = np.array([resize(image, (192, 192, 3)) for image in X_test])\n",
        "\n",
        "# Normalize the pixel values of the resized images\n",
        "X_test_resized = X_test_resized.astype('float32') / 255.0\n",
        "\n",
        "# Evaluate the model using the preprocessed test data\n",
        "preds = model.evaluate(X_test_resized, y_test)\n",
        "\n",
        "# Print the evaluation results\n",
        "print(\"Loss =\", preds[0])\n",
        "print(\"Test Accuracy =\", preds[1])"
      ]
    },
    {
      "cell_type": "code",
      "execution_count": null,
      "metadata": {
        "colab": {
          "base_uri": "https://localhost:8080/"
        },
        "id": "uniHf_JD2yQo",
        "outputId": "3a19d63d-6fbd-474c-f2fb-1ea0594e15e4"
      },
      "outputs": [
        {
          "output_type": "stream",
          "name": "stdout",
          "text": [
            "2/2 [==============================] - 0s 6ms/step\n",
            "                                   precision    recall  f1-score   support\n",
            "\n",
            "Covid-19-20240229T060836Z-001.zip       0.00      0.00      0.00         8\n",
            "                              Non       0.60      1.00      0.75        12\n",
            "\n",
            "                         accuracy                           0.60        20\n",
            "                        macro avg       0.30      0.50      0.37        20\n",
            "                     weighted avg       0.36      0.60      0.45        20\n",
            "\n"
          ]
        },
        {
          "output_type": "stream",
          "name": "stderr",
          "text": [
            "/usr/local/lib/python3.10/dist-packages/sklearn/metrics/_classification.py:1344: UndefinedMetricWarning: Precision and F-score are ill-defined and being set to 0.0 in labels with no predicted samples. Use `zero_division` parameter to control this behavior.\n",
            "  _warn_prf(average, modifier, msg_start, len(result))\n",
            "/usr/local/lib/python3.10/dist-packages/sklearn/metrics/_classification.py:1344: UndefinedMetricWarning: Precision and F-score are ill-defined and being set to 0.0 in labels with no predicted samples. Use `zero_division` parameter to control this behavior.\n",
            "  _warn_prf(average, modifier, msg_start, len(result))\n",
            "/usr/local/lib/python3.10/dist-packages/sklearn/metrics/_classification.py:1344: UndefinedMetricWarning: Precision and F-score are ill-defined and being set to 0.0 in labels with no predicted samples. Use `zero_division` parameter to control this behavior.\n",
            "  _warn_prf(average, modifier, msg_start, len(result))\n"
          ]
        }
      ],
      "source": [
        "from sklearn.metrics import classification_report\n",
        "\n",
        "# Resize the test images to match the expected input shape of the model\n",
        "X_test_resized = np.array([resize(image, (192, 192, 3)) for image in X_test])\n",
        "\n",
        "# Normalize the pixel values of the resized images\n",
        "X_test_resized = X_test_resized.astype('float32') / 255.0\n",
        "\n",
        "# Make predictions on the preprocessed test data\n",
        "predIdxs = model.predict(X_test_resized, batch_size=10)\n",
        "\n",
        "# Convert the predictions to class labels\n",
        "predIdxs = np.argmax(predIdxs, axis=1)\n",
        "\n",
        "# Generate a classification report directly using y_test and predIdxs\n",
        "print(classification_report(y_test, predIdxs, target_names=lb.classes_))\n"
      ]
    },
    {
      "cell_type": "code",
      "execution_count": null,
      "metadata": {
        "colab": {
          "base_uri": "https://localhost:8080/"
        },
        "id": "S6MQ1WKn20mF",
        "outputId": "e7469059-50e2-4e74-af45-38426be29f06"
      },
      "outputs": [
        {
          "output_type": "stream",
          "name": "stdout",
          "text": [
            "Model: \"sequential\"\n",
            "_________________________________________________________________\n",
            " Layer (type)                Output Shape              Param #   \n",
            "=================================================================\n",
            " conv2d (Conv2D)             (None, 190, 190, 32)      896       \n",
            "                                                                 \n",
            " max_pooling2d (MaxPooling2  (None, 95, 95, 32)        0         \n",
            " D)                                                              \n",
            "                                                                 \n",
            " conv2d_1 (Conv2D)           (None, 93, 93, 64)        18496     \n",
            "                                                                 \n",
            " max_pooling2d_1 (MaxPoolin  (None, 46, 46, 64)        0         \n",
            " g2D)                                                            \n",
            "                                                                 \n",
            " conv2d_2 (Conv2D)           (None, 44, 44, 64)        36928     \n",
            "                                                                 \n",
            " flatten (Flatten)           (None, 123904)            0         \n",
            "                                                                 \n",
            " dense_2 (Dense)             (None, 64)                7929920   \n",
            "                                                                 \n",
            " dense_3 (Dense)             (None, 2)                 130       \n",
            "                                                                 \n",
            "=================================================================\n",
            "Total params: 7986370 (30.47 MB)\n",
            "Trainable params: 7986370 (30.47 MB)\n",
            "Non-trainable params: 0 (0.00 Byte)\n",
            "_________________________________________________________________\n"
          ]
        }
      ],
      "source": [
        "model.summary()"
      ]
    }
  ],
  "metadata": {
    "accelerator": "GPU",
    "colab": {
      "gpuType": "T4",
      "provenance": []
    },
    "kernelspec": {
      "display_name": "Python 3",
      "name": "python3"
    },
    "language_info": {
      "name": "python"
    }
  },
  "nbformat": 4,
  "nbformat_minor": 0
}